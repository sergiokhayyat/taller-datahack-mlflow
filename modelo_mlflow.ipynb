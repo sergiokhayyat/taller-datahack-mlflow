{
 "cells": [
  {
   "cell_type": "markdown",
   "metadata": {},
   "source": [
    "# Entrenar un modelo con mlflow"
   ]
  },
  {
   "cell_type": "markdown",
   "metadata": {},
   "source": [
    "Cargar el dataset.\n",
    "\n",
    "Aquí vamos a coger el dataset de prueba del iris que viene en scikitlearn"
   ]
  },
  {
   "cell_type": "code",
   "execution_count": 3,
   "metadata": {},
   "outputs": [],
   "source": [
    "from sklearn.datasets import load_iris\n",
    "X, y = load_iris(return_X_y=True)"
   ]
  },
  {
   "cell_type": "markdown",
   "metadata": {},
   "source": [
    "Preparamos **mlflow**"
   ]
  },
  {
   "cell_type": "code",
   "execution_count": 7,
   "metadata": {},
   "outputs": [],
   "source": [
    "import mlflow\n",
    "import mlflow.sklearn\n",
    "# Indicar dónde está el tracking server (si lo tuviéramos)\n",
    "#mlflow.set_tracking_uri('http://localhost:8000')\n",
    "# Crear un “experimento”\n",
    "mlflow.set_experiment('iris_example')\n",
    "# (si no existe, lo crea; y si ya existe, te “mete” en él)"
   ]
  },
  {
   "cell_type": "markdown",
   "metadata": {},
   "source": [
    "Crear un modelo.\n",
    "\n",
    "Vamos a utilizar unas SVM para clasificación (SVC en scikitlearn)"
   ]
  },
  {
   "cell_type": "code",
   "execution_count": 32,
   "metadata": {},
   "outputs": [],
   "source": [
    "from sklearn.svm import SVC\n",
    "from sklearn.metrics import accuracy_score\n",
    "from datetime import datetime\n",
    "clf = SVC()"
   ]
  },
  {
   "cell_type": "markdown",
   "metadata": {},
   "source": [
    "Entrenamos el modelo con ciertos parámetros\n",
    "\n",
    "En el ejemplo vamos a probar a utilizar un kernel lineal (`kernel='linear'`) y un kernel gaussiano (`kernel='rbf'`)"
   ]
  },
  {
   "cell_type": "code",
   "execution_count": 43,
   "metadata": {},
   "outputs": [
    {
     "name": "stdout",
     "output_type": "stream",
     "text": [
      "rbf 0.9733333333333334\n"
     ]
    }
   ],
   "source": [
    "# Parámetros de la ejecución\n",
    "kernel = 'rbf'   # vamos a probar con 'linear' y 'rbf'\n",
    "# Arrancar una \"ejecución\"\n",
    "#mlflow.start_run()\n",
    "run_name = 'iris_'+kernel+'_'+datetime.now().strftime('%F %T')\n",
    "mlflow.start_run(run_name=run_name)  # el nombre es opcional\n",
    "# Apuntamos los parámetros de la ejecución\n",
    "mlflow.log_param('kernel', kernel)\n",
    "# Entrenamos\n",
    "clf.set_params(kernel=kernel)\n",
    "clf.fit(X, y)\n",
    "# Guardamos el modelo entrenado\n",
    "mlflow.sklearn.log_model(clf, 'model')\n",
    "# Calculamos el acierto\n",
    "score = accuracy_score(y, clf.predict(X))\n",
    "print(kernel, score)\n",
    "# Guardamos el score obtenido\n",
    "mlflow.log_metric('score', score)\n",
    "# Terminamos la ejecución\n",
    "mlflow.end_run()"
   ]
  },
  {
   "cell_type": "markdown",
   "metadata": {},
   "source": [
    "Podemos consultar las ejecuciones que hemos hecho"
   ]
  },
  {
   "cell_type": "code",
   "execution_count": 44,
   "metadata": {},
   "outputs": [
    {
     "data": {
      "text/html": [
       "<div>\n",
       "<style scoped>\n",
       "    .dataframe tbody tr th:only-of-type {\n",
       "        vertical-align: middle;\n",
       "    }\n",
       "\n",
       "    .dataframe tbody tr th {\n",
       "        vertical-align: top;\n",
       "    }\n",
       "\n",
       "    .dataframe thead th {\n",
       "        text-align: right;\n",
       "    }\n",
       "</style>\n",
       "<table border=\"1\" class=\"dataframe\">\n",
       "  <thead>\n",
       "    <tr style=\"text-align: right;\">\n",
       "      <th></th>\n",
       "      <th>run_id</th>\n",
       "      <th>experiment_id</th>\n",
       "      <th>status</th>\n",
       "      <th>artifact_uri</th>\n",
       "      <th>start_time</th>\n",
       "      <th>end_time</th>\n",
       "      <th>metrics.score</th>\n",
       "      <th>params.kernel</th>\n",
       "      <th>tags.mlflow.user</th>\n",
       "      <th>tags.mlflow.source.name</th>\n",
       "      <th>tags.mlflow.runName</th>\n",
       "      <th>tags.mlflow.source.type</th>\n",
       "    </tr>\n",
       "  </thead>\n",
       "  <tbody>\n",
       "    <tr>\n",
       "      <th>0</th>\n",
       "      <td>4258d5bb0c1644d48894d8a5ee7d3123</td>\n",
       "      <td>1</td>\n",
       "      <td>FINISHED</td>\n",
       "      <td>file:///C:/Users/snkre/afeedmebackend/mlruns/1...</td>\n",
       "      <td>2020-02-18 01:43:14.619000+00:00</td>\n",
       "      <td>2020-02-18 01:43:14.735000+00:00</td>\n",
       "      <td>0.973333</td>\n",
       "      <td>rbf</td>\n",
       "      <td>snkre</td>\n",
       "      <td>C:\\Users\\snkre\\Anaconda3\\lib\\site-packages\\ipy...</td>\n",
       "      <td>iris_rbf_2020-02-18 02:43:14</td>\n",
       "      <td>LOCAL</td>\n",
       "    </tr>\n",
       "    <tr>\n",
       "      <th>1</th>\n",
       "      <td>865efe68a75d44cebda2a954a25e9864</td>\n",
       "      <td>1</td>\n",
       "      <td>FINISHED</td>\n",
       "      <td>file:///C:/Users/snkre/afeedmebackend/mlruns/1...</td>\n",
       "      <td>2020-02-18 01:43:11.055000+00:00</td>\n",
       "      <td>2020-02-18 01:43:11.175000+00:00</td>\n",
       "      <td>0.993333</td>\n",
       "      <td>linear</td>\n",
       "      <td>snkre</td>\n",
       "      <td>C:\\Users\\snkre\\Anaconda3\\lib\\site-packages\\ipy...</td>\n",
       "      <td>iris_linear_2020-02-18 02:43:11</td>\n",
       "      <td>LOCAL</td>\n",
       "    </tr>\n",
       "  </tbody>\n",
       "</table>\n",
       "</div>"
      ],
      "text/plain": [
       "                             run_id experiment_id    status  \\\n",
       "0  4258d5bb0c1644d48894d8a5ee7d3123             1  FINISHED   \n",
       "1  865efe68a75d44cebda2a954a25e9864             1  FINISHED   \n",
       "\n",
       "                                        artifact_uri  \\\n",
       "0  file:///C:/Users/snkre/afeedmebackend/mlruns/1...   \n",
       "1  file:///C:/Users/snkre/afeedmebackend/mlruns/1...   \n",
       "\n",
       "                        start_time                         end_time  \\\n",
       "0 2020-02-18 01:43:14.619000+00:00 2020-02-18 01:43:14.735000+00:00   \n",
       "1 2020-02-18 01:43:11.055000+00:00 2020-02-18 01:43:11.175000+00:00   \n",
       "\n",
       "   metrics.score params.kernel tags.mlflow.user  \\\n",
       "0       0.973333           rbf            snkre   \n",
       "1       0.993333        linear            snkre   \n",
       "\n",
       "                             tags.mlflow.source.name  \\\n",
       "0  C:\\Users\\snkre\\Anaconda3\\lib\\site-packages\\ipy...   \n",
       "1  C:\\Users\\snkre\\Anaconda3\\lib\\site-packages\\ipy...   \n",
       "\n",
       "               tags.mlflow.runName tags.mlflow.source.type  \n",
       "0     iris_rbf_2020-02-18 02:43:14                   LOCAL  \n",
       "1  iris_linear_2020-02-18 02:43:11                   LOCAL  "
      ]
     },
     "execution_count": 44,
     "metadata": {},
     "output_type": "execute_result"
    }
   ],
   "source": [
    "mlflow.search_runs()"
   ]
  },
  {
   "cell_type": "markdown",
   "metadata": {},
   "source": [
    "Podemos arrancar la UI de mlflow ejecutando en consola:\n",
    "```\n",
    "mlflow ui\n",
    "```\n",
    "La interfaz estará en http://localhost:5000"
   ]
  },
  {
   "cell_type": "code",
   "execution_count": null,
   "metadata": {},
   "outputs": [],
   "source": []
  }
 ],
 "metadata": {
  "kernelspec": {
   "display_name": "Python 3",
   "language": "python",
   "name": "python3"
  },
  "language_info": {
   "codemirror_mode": {
    "name": "ipython",
    "version": 3
   },
   "file_extension": ".py",
   "mimetype": "text/x-python",
   "name": "python",
   "nbconvert_exporter": "python",
   "pygments_lexer": "ipython3",
   "version": "3.7.6"
  }
 },
 "nbformat": 4,
 "nbformat_minor": 4
}
