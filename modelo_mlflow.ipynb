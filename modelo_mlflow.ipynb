{
 "cells": [
  {
   "cell_type": "markdown",
   "metadata": {},
   "source": [
    "# Entrenar un modelo con mlflow"
   ]
  },
  {
   "cell_type": "markdown",
   "metadata": {},
   "source": [
    "Cargar el dataset.\n",
    "\n",
    "Aquí vamos a coger el dataset de prueba del iris que viene en scikitlearn"
   ]
  },
  {
   "cell_type": "code",
   "execution_count": 1,
   "metadata": {},
   "outputs": [],
   "source": [
    "from sklearn.datasets import load_iris\n",
    "X, y = load_iris(return_X_y=True)"
   ]
  },
  {
   "cell_type": "markdown",
   "metadata": {},
   "source": [
    "Preparamos **mlflow**"
   ]
  },
  {
   "cell_type": "code",
   "execution_count": 2,
   "metadata": {},
   "outputs": [
    {
     "name": "stdout",
     "output_type": "stream",
     "text": [
      "INFO: 'iris_example' does not exist. Creating a new experiment\n"
     ]
    }
   ],
   "source": [
    "import mlflow\n",
    "import mlflow.sklearn\n",
    "# Indicar dónde está el tracking server (si lo tuviéramos)\n",
    "#mlflow.set_tracking_uri('http://localhost:8000')\n",
    "# Crear un “experimento”\n",
    "mlflow.set_experiment('iris_example')\n",
    "# (si no existe, lo crea; y si ya existe, te “mete” en él)"
   ]
  },
  {
   "cell_type": "markdown",
   "metadata": {},
   "source": [
    "Crear un modelo.\n",
    "\n",
    "Vamos a utilizar unas SVM para clasificación (SVC en scikitlearn)"
   ]
  },
  {
   "cell_type": "code",
   "execution_count": 4,
   "metadata": {},
   "outputs": [],
   "source": [
    "from sklearn.svm import SVC\n",
    "from sklearn.metrics import accuracy_score\n",
    "from datetime import datetime\n",
    "clf = SVC()"
   ]
  },
  {
   "cell_type": "markdown",
   "metadata": {},
   "source": [
    "Entrenamos el modelo con ciertos parámetros\n",
    "\n",
    "En el ejemplo vamos a probar a utilizar un kernel lineal (`kernel='linear'`) y un kernel gaussiano (`kernel='rbf'`)"
   ]
  },
  {
   "cell_type": "code",
   "execution_count": 7,
   "metadata": {},
   "outputs": [
    {
     "name": "stdout",
     "output_type": "stream",
     "text": [
      "linear 0.9933333333333333\n"
     ]
    },
    {
     "name": "stderr",
     "output_type": "stream",
     "text": [
      "/home/sergio/miniconda3/envs/taller/lib/python3.8/site-packages/ipykernel/ipkernel.py:287: DeprecationWarning: `should_run_async` will not call `transform_cell` automatically in the future. Please pass the result to `transformed_cell` argument and any exception that happen during thetransform in `preprocessing_exc_tuple` in IPython 7.17 and above.\n",
      "  and should_run_async(code)\n"
     ]
    }
   ],
   "source": [
    "# Parámetros de la ejecución\n",
    "kernel = 'linear'   # vamos a probar con 'linear' y 'rbf'\n",
    "\n",
    "# Arrancar una \"ejecución\"\n",
    "#mlflow.start_run()\n",
    "timestamp = datetime.now().strftime('%F %T')\n",
    "run_name = f\"iris_{kernel}_{timestamp}\"\n",
    "mlflow.start_run(run_name=run_name)  # el nombre es opcional\n",
    "\n",
    "# Apuntamos los parámetros de la ejecución\n",
    "mlflow.log_param('kernel', kernel)\n",
    "\n",
    "# Entrenamos\n",
    "clf.set_params(kernel=kernel)\n",
    "clf.fit(X, y)\n",
    "\n",
    "# Guardamos el modelo entrenado\n",
    "mlflow.sklearn.log_model(clf, 'model')\n",
    "\n",
    "# Calculamos el acierto\n",
    "score = accuracy_score(y, clf.predict(X))\n",
    "print(kernel, score)\n",
    "\n",
    "# Guardamos el score obtenido\n",
    "mlflow.log_metric('score', score)\n",
    "\n",
    "# Terminamos la ejecución\n",
    "mlflow.end_run()"
   ]
  },
  {
   "cell_type": "markdown",
   "metadata": {},
   "source": [
    "Podemos consultar las ejecuciones que hemos hecho"
   ]
  },
  {
   "cell_type": "code",
   "execution_count": 8,
   "metadata": {},
   "outputs": [
    {
     "name": "stderr",
     "output_type": "stream",
     "text": [
      "/home/sergio/miniconda3/envs/taller/lib/python3.8/site-packages/ipykernel/ipkernel.py:287: DeprecationWarning: `should_run_async` will not call `transform_cell` automatically in the future. Please pass the result to `transformed_cell` argument and any exception that happen during thetransform in `preprocessing_exc_tuple` in IPython 7.17 and above.\n",
      "  and should_run_async(code)\n"
     ]
    },
    {
     "data": {
      "text/html": [
       "<div>\n",
       "<style scoped>\n",
       "    .dataframe tbody tr th:only-of-type {\n",
       "        vertical-align: middle;\n",
       "    }\n",
       "\n",
       "    .dataframe tbody tr th {\n",
       "        vertical-align: top;\n",
       "    }\n",
       "\n",
       "    .dataframe thead th {\n",
       "        text-align: right;\n",
       "    }\n",
       "</style>\n",
       "<table border=\"1\" class=\"dataframe\">\n",
       "  <thead>\n",
       "    <tr style=\"text-align: right;\">\n",
       "      <th></th>\n",
       "      <th>run_id</th>\n",
       "      <th>experiment_id</th>\n",
       "      <th>status</th>\n",
       "      <th>artifact_uri</th>\n",
       "      <th>start_time</th>\n",
       "      <th>end_time</th>\n",
       "      <th>metrics.score</th>\n",
       "      <th>params.kernel</th>\n",
       "      <th>tags.mlflow.source.name</th>\n",
       "      <th>tags.mlflow.user</th>\n",
       "      <th>tags.mlflow.runName</th>\n",
       "      <th>tags.mlflow.log-model.history</th>\n",
       "      <th>tags.mlflow.source.type</th>\n",
       "    </tr>\n",
       "  </thead>\n",
       "  <tbody>\n",
       "    <tr>\n",
       "      <th>0</th>\n",
       "      <td>f973a41ce2564d5689b96b6124e3ccb5</td>\n",
       "      <td>1</td>\n",
       "      <td>FINISHED</td>\n",
       "      <td>file:///home/sergio/taller-datahack-mlflow/mlr...</td>\n",
       "      <td>2020-09-15 19:28:57.723000+00:00</td>\n",
       "      <td>2020-09-15 19:28:57.782000+00:00</td>\n",
       "      <td>0.993333</td>\n",
       "      <td>linear</td>\n",
       "      <td>/home/sergio/miniconda3/envs/taller/lib/python...</td>\n",
       "      <td>sergio</td>\n",
       "      <td>iris_linear_2020-09-15 21:28:57</td>\n",
       "      <td>[{\"run_id\": \"f973a41ce2564d5689b96b6124e3ccb5\"...</td>\n",
       "      <td>LOCAL</td>\n",
       "    </tr>\n",
       "    <tr>\n",
       "      <th>1</th>\n",
       "      <td>9aa6964ebfe6431095d42c2739c9dff0</td>\n",
       "      <td>1</td>\n",
       "      <td>FINISHED</td>\n",
       "      <td>file:///home/sergio/taller-datahack-mlflow/mlr...</td>\n",
       "      <td>2020-09-15 19:28:36.150000+00:00</td>\n",
       "      <td>2020-09-15 19:28:36.213000+00:00</td>\n",
       "      <td>0.993333</td>\n",
       "      <td>linear</td>\n",
       "      <td>/home/sergio/miniconda3/envs/taller/lib/python...</td>\n",
       "      <td>sergio</td>\n",
       "      <td>iris_linear_2020-09-15 21:28:36</td>\n",
       "      <td>[{\"run_id\": \"9aa6964ebfe6431095d42c2739c9dff0\"...</td>\n",
       "      <td>LOCAL</td>\n",
       "    </tr>\n",
       "    <tr>\n",
       "      <th>2</th>\n",
       "      <td>756e99db261d43ec8b05f8bad2359940</td>\n",
       "      <td>1</td>\n",
       "      <td>FINISHED</td>\n",
       "      <td>file:///home/sergio/taller-datahack-mlflow/mlr...</td>\n",
       "      <td>2020-09-15 19:28:23.592000+00:00</td>\n",
       "      <td>2020-09-15 19:28:23.637000+00:00</td>\n",
       "      <td>0.973333</td>\n",
       "      <td>rbf</td>\n",
       "      <td>/home/sergio/miniconda3/envs/taller/lib/python...</td>\n",
       "      <td>sergio</td>\n",
       "      <td>iris_rbf_2020-09-15 21:28:23</td>\n",
       "      <td>[{\"run_id\": \"756e99db261d43ec8b05f8bad2359940\"...</td>\n",
       "      <td>LOCAL</td>\n",
       "    </tr>\n",
       "  </tbody>\n",
       "</table>\n",
       "</div>"
      ],
      "text/plain": [
       "                             run_id experiment_id    status  \\\n",
       "0  f973a41ce2564d5689b96b6124e3ccb5             1  FINISHED   \n",
       "1  9aa6964ebfe6431095d42c2739c9dff0             1  FINISHED   \n",
       "2  756e99db261d43ec8b05f8bad2359940             1  FINISHED   \n",
       "\n",
       "                                        artifact_uri  \\\n",
       "0  file:///home/sergio/taller-datahack-mlflow/mlr...   \n",
       "1  file:///home/sergio/taller-datahack-mlflow/mlr...   \n",
       "2  file:///home/sergio/taller-datahack-mlflow/mlr...   \n",
       "\n",
       "                        start_time                         end_time  \\\n",
       "0 2020-09-15 19:28:57.723000+00:00 2020-09-15 19:28:57.782000+00:00   \n",
       "1 2020-09-15 19:28:36.150000+00:00 2020-09-15 19:28:36.213000+00:00   \n",
       "2 2020-09-15 19:28:23.592000+00:00 2020-09-15 19:28:23.637000+00:00   \n",
       "\n",
       "   metrics.score params.kernel  \\\n",
       "0       0.993333        linear   \n",
       "1       0.993333        linear   \n",
       "2       0.973333           rbf   \n",
       "\n",
       "                             tags.mlflow.source.name tags.mlflow.user  \\\n",
       "0  /home/sergio/miniconda3/envs/taller/lib/python...           sergio   \n",
       "1  /home/sergio/miniconda3/envs/taller/lib/python...           sergio   \n",
       "2  /home/sergio/miniconda3/envs/taller/lib/python...           sergio   \n",
       "\n",
       "               tags.mlflow.runName  \\\n",
       "0  iris_linear_2020-09-15 21:28:57   \n",
       "1  iris_linear_2020-09-15 21:28:36   \n",
       "2     iris_rbf_2020-09-15 21:28:23   \n",
       "\n",
       "                       tags.mlflow.log-model.history tags.mlflow.source.type  \n",
       "0  [{\"run_id\": \"f973a41ce2564d5689b96b6124e3ccb5\"...                   LOCAL  \n",
       "1  [{\"run_id\": \"9aa6964ebfe6431095d42c2739c9dff0\"...                   LOCAL  \n",
       "2  [{\"run_id\": \"756e99db261d43ec8b05f8bad2359940\"...                   LOCAL  "
      ]
     },
     "execution_count": 8,
     "metadata": {},
     "output_type": "execute_result"
    }
   ],
   "source": [
    "mlflow.search_runs()"
   ]
  },
  {
   "cell_type": "markdown",
   "metadata": {},
   "source": [
    "Podemos arrancar la UI de mlflow ejecutando en consola:\n",
    "```\n",
    "mlflow ui\n",
    "```\n",
    "La interfaz estará en http://localhost:5000"
   ]
  },
  {
   "cell_type": "code",
   "execution_count": null,
   "metadata": {},
   "outputs": [],
   "source": []
  }
 ],
 "metadata": {
  "kernelspec": {
   "display_name": "Python 3",
   "language": "python",
   "name": "python3"
  },
  "language_info": {
   "codemirror_mode": {
    "name": "ipython",
    "version": 3
   },
   "file_extension": ".py",
   "mimetype": "text/x-python",
   "name": "python",
   "nbconvert_exporter": "python",
   "pygments_lexer": "ipython3",
   "version": "3.8.5"
  }
 },
 "nbformat": 4,
 "nbformat_minor": 4
}
