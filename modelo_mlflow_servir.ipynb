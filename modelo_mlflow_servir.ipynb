{
 "cells": [
  {
   "cell_type": "markdown",
   "metadata": {},
   "source": [
    "# Servir un modelo entrenado con mlflow"
   ]
  },
  {
   "cell_type": "markdown",
   "metadata": {},
   "source": [
    "Previamente habremos entrenado unos modelos usando mlflow, por lo que tendremos un experimento con ejecuciones"
   ]
  },
  {
   "cell_type": "code",
   "execution_count": 1,
   "metadata": {},
   "outputs": [],
   "source": [
    "import mlflow\n",
    "import mlflow.sklearn\n",
    "# Indicar dónde está el tracking server (si lo tuviéramos)\n",
    "#mlflow.set_tracking_uri('http://localhost:8000')\n",
    "# Abrir el “experimento”\n",
    "mlflow.set_experiment('iris_example')"
   ]
  },
  {
   "cell_type": "markdown",
   "metadata": {},
   "source": [
    "Consultamos la lista de ejecuciones que hemos hecho"
   ]
  },
  {
   "cell_type": "code",
   "execution_count": 2,
   "metadata": {},
   "outputs": [
    {
     "data": {
      "text/html": [
       "<div>\n",
       "<style scoped>\n",
       "    .dataframe tbody tr th:only-of-type {\n",
       "        vertical-align: middle;\n",
       "    }\n",
       "\n",
       "    .dataframe tbody tr th {\n",
       "        vertical-align: top;\n",
       "    }\n",
       "\n",
       "    .dataframe thead th {\n",
       "        text-align: right;\n",
       "    }\n",
       "</style>\n",
       "<table border=\"1\" class=\"dataframe\">\n",
       "  <thead>\n",
       "    <tr style=\"text-align: right;\">\n",
       "      <th></th>\n",
       "      <th>run_id</th>\n",
       "      <th>experiment_id</th>\n",
       "      <th>status</th>\n",
       "      <th>artifact_uri</th>\n",
       "      <th>start_time</th>\n",
       "      <th>end_time</th>\n",
       "      <th>metrics.score</th>\n",
       "      <th>params.kernel</th>\n",
       "      <th>tags.mlflow.log-model.history</th>\n",
       "      <th>tags.mlflow.source.type</th>\n",
       "      <th>tags.mlflow.runName</th>\n",
       "      <th>tags.mlflow.user</th>\n",
       "      <th>tags.mlflow.source.name</th>\n",
       "    </tr>\n",
       "  </thead>\n",
       "  <tbody>\n",
       "    <tr>\n",
       "      <th>0</th>\n",
       "      <td>34c17770f3ce410285daa384156651d0</td>\n",
       "      <td>1</td>\n",
       "      <td>FINISHED</td>\n",
       "      <td>file:///home/sergio.nabil/workspace/taller-URJ...</td>\n",
       "      <td>2020-04-23 22:46:55.782000+00:00</td>\n",
       "      <td>2020-04-23 22:46:55.823000+00:00</td>\n",
       "      <td>0.993333</td>\n",
       "      <td>linear</td>\n",
       "      <td>[{\"run_id\": \"34c17770f3ce410285daa384156651d0\"...</td>\n",
       "      <td>LOCAL</td>\n",
       "      <td>iris_linear_2020-04-24 00:46:55</td>\n",
       "      <td>sergio.nabil</td>\n",
       "      <td>/home/sergio.nabil/miniconda3/envs/taller/lib/...</td>\n",
       "    </tr>\n",
       "    <tr>\n",
       "      <th>1</th>\n",
       "      <td>394375211a2c4895a8783a3453dfa29e</td>\n",
       "      <td>1</td>\n",
       "      <td>FINISHED</td>\n",
       "      <td>file:///home/sergio.nabil/workspace/taller-URJ...</td>\n",
       "      <td>2020-04-23 22:46:46.839000+00:00</td>\n",
       "      <td>2020-04-23 22:46:46.882000+00:00</td>\n",
       "      <td>0.973333</td>\n",
       "      <td>rbf</td>\n",
       "      <td>[{\"run_id\": \"394375211a2c4895a8783a3453dfa29e\"...</td>\n",
       "      <td>LOCAL</td>\n",
       "      <td>iris_rbf_2020-04-24 00:46:46</td>\n",
       "      <td>sergio.nabil</td>\n",
       "      <td>/home/sergio.nabil/miniconda3/envs/taller/lib/...</td>\n",
       "    </tr>\n",
       "  </tbody>\n",
       "</table>\n",
       "</div>"
      ],
      "text/plain": [
       "                             run_id experiment_id    status  \\\n",
       "0  34c17770f3ce410285daa384156651d0             1  FINISHED   \n",
       "1  394375211a2c4895a8783a3453dfa29e             1  FINISHED   \n",
       "\n",
       "                                        artifact_uri  \\\n",
       "0  file:///home/sergio.nabil/workspace/taller-URJ...   \n",
       "1  file:///home/sergio.nabil/workspace/taller-URJ...   \n",
       "\n",
       "                        start_time                         end_time  \\\n",
       "0 2020-04-23 22:46:55.782000+00:00 2020-04-23 22:46:55.823000+00:00   \n",
       "1 2020-04-23 22:46:46.839000+00:00 2020-04-23 22:46:46.882000+00:00   \n",
       "\n",
       "   metrics.score params.kernel  \\\n",
       "0       0.993333        linear   \n",
       "1       0.973333           rbf   \n",
       "\n",
       "                       tags.mlflow.log-model.history tags.mlflow.source.type  \\\n",
       "0  [{\"run_id\": \"34c17770f3ce410285daa384156651d0\"...                   LOCAL   \n",
       "1  [{\"run_id\": \"394375211a2c4895a8783a3453dfa29e\"...                   LOCAL   \n",
       "\n",
       "               tags.mlflow.runName tags.mlflow.user  \\\n",
       "0  iris_linear_2020-04-24 00:46:55     sergio.nabil   \n",
       "1     iris_rbf_2020-04-24 00:46:46     sergio.nabil   \n",
       "\n",
       "                             tags.mlflow.source.name  \n",
       "0  /home/sergio.nabil/miniconda3/envs/taller/lib/...  \n",
       "1  /home/sergio.nabil/miniconda3/envs/taller/lib/...  "
      ]
     },
     "execution_count": 2,
     "metadata": {},
     "output_type": "execute_result"
    }
   ],
   "source": [
    "mlflow.search_runs()"
   ]
  },
  {
   "cell_type": "markdown",
   "metadata": {},
   "source": [
    "Para lanzar el modelo, ejecutamos en una consola:\n",
    "```\n",
    "mlflow models serve -m runs:/<RUN_ID>/model -p <PUERTO>\n",
    "```\n",
    "donde\n",
    "- `RUN_ID` es el ID de la ejecución de la tabla anterior (columna `run_id`)\n",
    "- `PUERTO` es el puerto donde queremos publicar la API del modelo"
   ]
  },
  {
   "cell_type": "markdown",
   "metadata": {},
   "source": [
    "Ahora podemos llamar al modelo, por ejemplo mediante `curl` en consola o con el código a continuación."
   ]
  },
  {
   "cell_type": "markdown",
   "metadata": {},
   "source": [
    "```\n",
    "curl -s 'http://localhost:<PUERTO>/invocations' -H 'Content-type: application/json; format=pandas-split' -d '{\"data\":[ [6.7, 3.3, 5.7, 2.1] ]}'\n",
    "```"
   ]
  },
  {
   "cell_type": "code",
   "execution_count": 1,
   "metadata": {},
   "outputs": [
    {
     "data": {
      "text/plain": [
       "[2, 0]"
      ]
     },
     "execution_count": 1,
     "metadata": {},
     "output_type": "execute_result"
    }
   ],
   "source": [
    "# Ejemplo de llamada en código python\n",
    "PUERTO = 5555  # **SUSTITUIR POR EL PUERTO CORRESPONDIENTE**\n",
    "\n",
    "# Vamos a pedirle que clasifique 2 patrones en 1 misma llamada\n",
    "data = [ [6.7, 3.3, 5.7, 2.1],\n",
    "         [4.6, 3.4, 1.4, 0.3] ]\n",
    "\n",
    "import requests\n",
    "requests.post(f'http://localhost:{PUERTO}/invocations', json={'data':data}).json()"
   ]
  },
  {
   "cell_type": "code",
   "execution_count": null,
   "metadata": {},
   "outputs": [],
   "source": []
  }
 ],
 "metadata": {
  "kernelspec": {
   "display_name": "Python 3",
   "language": "python",
   "name": "python3"
  },
  "language_info": {
   "codemirror_mode": {
    "name": "ipython",
    "version": 3
   },
   "file_extension": ".py",
   "mimetype": "text/x-python",
   "name": "python",
   "nbconvert_exporter": "python",
   "pygments_lexer": "ipython3",
   "version": "3.8.5"
  }
 },
 "nbformat": 4,
 "nbformat_minor": 4
}
